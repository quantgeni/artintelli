{
  "nbformat": 4,
  "nbformat_minor": 0,
  "metadata": {
    "colab": {
      "name": "ML22-KNN.ipynb",
      "version": "0.3.2",
      "provenance": [],
      "collapsed_sections": []
    },
    "kernelspec": {
      "name": "python3",
      "display_name": "Python 3"
    }
  },
  "cells": [
    {
      "cell_type": "code",
      "metadata": {
        "id": "XwE7RVGZXNBt",
        "colab_type": "code",
        "colab": {}
      },
      "source": [
        "import numpy as np\n",
        "import pandas as pd\n",
        "import matplotlib.pyplot as plt\n",
        "import seaborn as sns\n",
        "\n",
        "from sklearn.neighbors import KNeighborsClassifier\n",
        "\n",
        "from sklearn.datasets import load_iris\n",
        "from sklearn.model_selection import train_test_split\n",
        "from sklearn.metrics import confusion_matrix\n",
        "from sklearn.metrics import accuracy_score\n",
        "from pandas.plotting import scatter_matrix"
      ],
      "execution_count": 0,
      "outputs": []
    },
    {
      "cell_type": "code",
      "metadata": {
        "id": "GHHo-WuxUbPd",
        "colab_type": "code",
        "colab": {}
      },
      "source": [
        "# KNN k-nearest neighbors\n",
        "\n",
        "# k 최근접 이웃 알고리즘\n",
        "# 머신러닝 분류에 자주 사용되는 대표 알고리즘\n",
        "# 얼굴인식, 개인영화추천, 질병 유전자 패턴 식별에 활용\n",
        "\n",
        "# KNN의 K는 가장 가까운 이웃 '하나' 가 아니고\n",
        "# 훈련 데이터 중 새로운 데이터와 가장 가까운\n",
        "# k개의 이웃을 찾는 다는 의미\n",
        "\n",
        "# 즉, 하나의 관측값은 거리가 가까운 k개의 \n",
        "# 이웃 관측값들과 비슷한 특성을 갖는다고 가정함\n",
        "\n",
        "# 따라서, k개의 이웃의 목표변수 중 다수결로\n",
        "# 가장 많은 범주에 속한 값을 결과로 반환\n",
        "\n",
        "# KNN 알고리즘에서는 k를 얼마로 설정하느냐에 따라\n",
        "# 결과와 성능이 달라짐\n",
        "\n",
        "# k 가 작으면 데이터의 범위가 좁아짐 - 과적합 위험\n",
        "# k 가 크면 데이터의 범위가 넓어짐 - 일반화 위험\n",
        "\n",
        "# 일반적으로 k값은 데이터의 건수에 제곱근을 씌운 값\n"
      ],
      "execution_count": 0,
      "outputs": []
    },
    {
      "cell_type": "code",
      "metadata": {
        "id": "hmLTwWD1XVbc",
        "colab_type": "code",
        "colab": {}
      },
      "source": [
        "# iris 데이터셋을 knn으로 분석하기\n",
        "\n",
        "# 데이터 적재\n",
        "iris = load_iris()\n",
        "\n",
        "\n",
        "# 데이터 시각화 - 산점도 행렬\n",
        "df = pd.DataFrame(iris.data, columns=iris.feature_names)\n",
        "\n",
        "pd.plotting.scatter_matrix(df, c=iris.target, marker='o', s=15, alpha=.8)\n",
        "plt.show()\n",
        "\n",
        "\n",
        "# 데이터 분할\n",
        "X_train, X_test, y_train, y_test = \\\n",
        "train_test_split(iris.data, iris.target, random_state=1907101430)\n",
        "\n",
        "\n",
        "# knn 분석 1\n",
        "knn = KNeighborsClassifier(n_neighbors=1)\n",
        "# k 값은 1로 설정 (기본값 5)\n",
        "\n",
        "knn.fit(X_train, y_train)\n",
        "print('훈련정확도', knn.score(X_train, y_train))\n",
        "\n",
        "\n",
        "# 예측하기 \n",
        "new_x = np.array([[5, 2.9, 1, 0.2]])\n",
        "pred = knn.predict(new_x)\n",
        "\n",
        "iris.target_names[pred]   # 예측결과 레이블 출력\n",
        "\n",
        "\n",
        "# 평가하기\n",
        "pred = knn.predict(X_test)\n",
        "print('검증정확도', knn.score(X_test, y_test))\n"
      ],
      "execution_count": 0,
      "outputs": []
    },
    {
      "cell_type": "code",
      "metadata": {
        "id": "P4_aDeodbrw3",
        "colab_type": "code",
        "colab": {
          "base_uri": "https://localhost:8080/",
          "height": 55
        },
        "outputId": "22864245-5f08-44f4-e986-b2ea34fa0c57"
      },
      "source": [
        "# knn 분석 2\n",
        "knn = KNeighborsClassifier(n_neighbors=3)\n",
        "# k 값은 1로 설정 (기본값 3)\n",
        "\n",
        "knn.fit(X_train, y_train)\n",
        "print('훈련정확도', knn.score(X_train, y_train))\n",
        "\n",
        "\n",
        "# 예측하기 \n",
        "new_x = np.array([[5, 2.9, 1, 0.2]])\n",
        "pred = knn.predict(new_x)\n",
        "\n",
        "iris.target_names[pred]   # 예측결과 레이블 출력\n",
        "# => setosa\n",
        "\n",
        "\n",
        "# 평가하기\n",
        "pred = knn.predict(X_test)\n",
        "print('검증정확도', knn.score(X_test, y_test))\n"
      ],
      "execution_count": 21,
      "outputs": [
        {
          "output_type": "stream",
          "text": [
            "훈련정확도 0.9732142857142857\n",
            "검증정확도 0.9210526315789473\n"
          ],
          "name": "stdout"
        }
      ]
    },
    {
      "cell_type": "code",
      "metadata": {
        "id": "fmfG86jZbx5O",
        "colab_type": "code",
        "colab": {
          "base_uri": "https://localhost:8080/",
          "height": 55
        },
        "outputId": "8bf852f5-9a19-4b15-f5f2-bb270d7da87c"
      },
      "source": [
        "# knn 분석 3\n",
        "knn = KNeighborsClassifier(n_neighbors=5)\n",
        "# k 값은 1로 설정 (기본값 5)\n",
        "\n",
        "knn.fit(X_train, y_train)\n",
        "print('훈련정확도', knn.score(X_train, y_train))\n",
        "\n",
        "\n",
        "# 예측하기 \n",
        "new_x = np.array([[5, 2.9, 1, 0.2]])\n",
        "pred = knn.predict(new_x)\n",
        "\n",
        "iris.target_names[pred]   # 예측결과 레이블 출력\n",
        "\n",
        "\n",
        "# 평가하기\n",
        "pred = knn.predict(X_test)\n",
        "print('검증정확도', knn.score(X_test, y_test))\n"
      ],
      "execution_count": 22,
      "outputs": [
        {
          "output_type": "stream",
          "text": [
            "훈련정확도 0.9732142857142857\n",
            "검증정확도 0.9473684210526315\n"
          ],
          "name": "stdout"
        }
      ]
    },
    {
      "cell_type": "code",
      "metadata": {
        "id": "yGR_bvJKfq0o",
        "colab_type": "code",
        "colab": {}
      },
      "source": [
        "# KNN 알고리즘 좀 더 살펴보기\n",
        "# 가장 가까운 훈련데이터 k개를 최근접 이웃으로 찾아 예측에 사용함\n",
        "# pip install mglearn\n",
        "\n",
        "import mglearn\n",
        "\n",
        "mglearn.plots.plot_knn_classification(n_neighbors=1)\n",
        "plt.show()\n",
        "\n",
        "mglearn.plots.plot_knn_classification(n_neighbors=3)\n",
        "plt.show()\n",
        "\n",
        "mglearn.plots.plot_knn_classification(n_neighbors=5)\n",
        "plt.show()\n"
      ],
      "execution_count": 0,
      "outputs": []
    },
    {
      "cell_type": "code",
      "metadata": {
        "id": "XPAf7DZiiJXx",
        "colab_type": "code",
        "colab": {
          "base_uri": "https://localhost:8080/",
          "height": 582
        },
        "outputId": "bac2a1e7-2ff5-48b7-fa11-8f7a9aad0a9d"
      },
      "source": [
        "# 3점슛, 블록킹수에 따라 포지션이 결정됨\n",
        "# 만일, 3점슛이 5, 블록킹수 4일 경우 포지션은?\n",
        "\n",
        "basket = pd.read_csv('bb.txt', encoding='euc-kr')\n",
        "\n",
        "basket.info()\n",
        "basket.포지션.value_counts()\n",
        "\n",
        "\n",
        "# 시각화\n",
        "x = basket['3점']\n",
        "y = basket.블로킹\n",
        "z = basket.포지션\n",
        "\n",
        "sns.scatterplot(x, y, hue=z)\n",
        "plt.plot(5, 4, 'rX', markersize=25)\n",
        "plt.grid('on')\n",
        "plt.show()\n",
        "\n",
        "\n",
        "# 데이터 분할\n",
        "data = basket.iloc[:, 1:3]\n",
        "\n",
        "basket['position'] = basket.포지션.map({'센터': 0, '슈팅가드': 1})\n",
        "target = basket.position\n",
        "\n",
        "\n",
        "# KNN 분석\n",
        "knn = KNeighborsClassifier(n_neighbors=1)\n",
        "knn.fit(data, target)\n",
        "print('훈련정확도', knn.score(data, target))\n",
        "\n",
        "knn.predict(np.array([[5, 4]]))\n",
        "# => 0이 나오므로 센터\n",
        "\n",
        "\n",
        "# KNN 분석\n",
        "knn = KNeighborsClassifier(n_neighbors=3)\n",
        "knn.fit(data, target)\n",
        "print('훈련정확도', knn.score(data, target))\n",
        "\n",
        "knn.predict(np.array([[5, 4]]))\n",
        "# => 1이 나오므로 슈팅가드\n",
        "\n",
        "\n",
        "# KNN 분석\n",
        "knn = KNeighborsClassifier(n_neighbors=5)\n",
        "knn.fit(data, target)\n",
        "print('훈련정확도', knn.score(data, target))\n",
        "\n",
        "knn.predict(np.array([[5, 4]]))\n",
        "# => 1이 나오므로 슈팅가드"
      ],
      "execution_count": 72,
      "outputs": [
        {
          "output_type": "stream",
          "text": [
            "<class 'pandas.core.frame.DataFrame'>\n",
            "RangeIndex: 13 entries, 0 to 12\n",
            "Data columns (total 4 columns):\n",
            "이름     13 non-null object\n",
            "3점     13 non-null int64\n",
            "블로킹    13 non-null int64\n",
            "포지션    13 non-null object\n",
            "dtypes: int64(2), object(2)\n",
            "memory usage: 496.0+ bytes\n"
          ],
          "name": "stdout"
        },
        {
          "output_type": "stream",
          "text": [
            "/usr/local/lib/python3.6/dist-packages/matplotlib/cbook/__init__.py:424: MatplotlibDeprecationWarning: \n",
            "Passing one of 'on', 'true', 'off', 'false' as a boolean is deprecated; use an actual boolean (True/False) instead.\n",
            "  warn_deprecated(\"2.2\", \"Passing one of 'on', 'true', 'off', 'false' as a \"\n"
          ],
          "name": "stderr"
        },
        {
          "output_type": "display_data",
          "data": {
            "image/png": "[encoded data removed]",
            "text/plain": [
              "<Figure size 432x288 with 1 Axes>"
            ]
          },
          "metadata": {
            "tags": []
          }
        },
        {
          "output_type": "stream",
          "text": [
            "훈련정확도 1.0\n",
            "훈련정확도 1.0\n",
            "훈련정확도 1.0\n"
          ],
          "name": "stdout"
        },
        {
          "output_type": "execute_result",
          "data": {
            "text/plain": [
              "array([1])"
            ]
          },
          "metadata": {
            "tags": []
          },
          "execution_count": 72
        }
      ]
    }
  ]
}