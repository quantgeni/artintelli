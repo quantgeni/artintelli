{
  "nbformat": 4,
  "nbformat_minor": 0,
  "metadata": {
    "kernelspec": {
      "display_name": "Python 3",
      "language": "python",
      "name": "python3"
    },
    "language_info": {
      "codemirror_mode": {
        "name": "ipython",
        "version": 3
      },
      "file_extension": ".py",
      "mimetype": "text/x-python",
      "name": "python",
      "nbconvert_exporter": "python",
      "pygments_lexer": "ipython3",
      "version": "3.6.2"
    },
    "colab": {
      "name": "[NLP. Tensorflow+Keras 06] Text Mining2.ipynb",
      "version": "0.3.2",
      "provenance": [],
      "collapsed_sections": []
    }
  },
  "cells": [
    {
      "cell_type": "markdown",
      "metadata": {
        "id": "9aVV8tD95VNh",
        "colab_type": "text"
      },
      "source": [
        "## [판다스 데이터프레임DataFrame과 정규표현식Regular Expression의 절묘한 콜라보레이션]"
      ]
    },
    {
      "cell_type": "code",
      "metadata": {
        "scrolled": true,
        "id": "QOTihVQ-5VNn",
        "colab_type": "code",
        "colab": {
          "base_uri": "https://localhost:8080/",
          "height": 301
        },
        "outputId": "2a4b7f24-f719-4da4-ee76-888c169ac9c3"
      },
      "source": [
        "##### ------------------ 본 한글주석 by 유형균 (이메일 문의 : quantgeni@gmail.com) ------------------ #####\n",
        "# 그 마음 압니다. 정규표현식의 pressure!\n",
        "# 하.지.만, 계속 다루다보면 쉬워집니다. 그때까지 달려보자구요!\n",
        "\n",
        "import pandas as pd\n",
        "\n",
        "time_sentences = [\"Monday: The doctor's appointment is at 2:45pm.\", \n",
        "                  \"Tuesday: The dentist's appointment is at 11:30 am.\",\n",
        "                  \"Wednesday: At 7:00pm, there is a basketball game!\",\n",
        "                  \"Thursday: Be back home by 11:15 pm at the latest.\",\n",
        "                  \"Friday: Take the train at 08:10 am, arrive at 09:00am.\"]\n",
        "\n",
        "df = pd.DataFrame(time_sentences, columns=['text'])\n",
        "print(df)\n",
        "df\n",
        "\n",
        "# 자, 판다스 DataFrame을 이용해 깔끔한 table 형태로 만들어주시고요\n",
        "# print로 찍어낸 데이터프레임 df와 그냥 df의 결과를 대조해봅시다"
      ],
      "execution_count": 14,
      "outputs": [
        {
          "output_type": "stream",
          "text": [
            "                                                text\n",
            "0     Monday: The doctor's appointment is at 2:45pm.\n",
            "1  Tuesday: The dentist's appointment is at 11:30...\n",
            "2  Wednesday: At 7:00pm, there is a basketball game!\n",
            "3  Thursday: Be back home by 11:15 pm at the latest.\n",
            "4  Friday: Take the train at 08:10 am, arrive at ...\n"
          ],
          "name": "stdout"
        },
        {
          "output_type": "execute_result",
          "data": {
            "text/html": [
              "<div>\n",
              "<style scoped>\n",
              "    .dataframe tbody tr th:only-of-type {\n",
              "        vertical-align: middle;\n",
              "    }\n",
              "\n",
              "    .dataframe tbody tr th {\n",
              "        vertical-align: top;\n",
              "    }\n",
              "\n",
              "    .dataframe thead th {\n",
              "        text-align: right;\n",
              "    }\n",
              "</style>\n",
              "<table border=\"1\" class=\"dataframe\">\n",
              "  <thead>\n",
              "    <tr style=\"text-align: right;\">\n",
              "      <th></th>\n",
              "      <th>text</th>\n",
              "    </tr>\n",
              "  </thead>\n",
              "  <tbody>\n",
              "    <tr>\n",
              "      <th>0</th>\n",
              "      <td>Monday: The doctor's appointment is at 2:45pm.</td>\n",
              "    </tr>\n",
              "    <tr>\n",
              "      <th>1</th>\n",
              "      <td>Tuesday: The dentist's appointment is at 11:30...</td>\n",
              "    </tr>\n",
              "    <tr>\n",
              "      <th>2</th>\n",
              "      <td>Wednesday: At 7:00pm, there is a basketball game!</td>\n",
              "    </tr>\n",
              "    <tr>\n",
              "      <th>3</th>\n",
              "      <td>Thursday: Be back home by 11:15 pm at the latest.</td>\n",
              "    </tr>\n",
              "    <tr>\n",
              "      <th>4</th>\n",
              "      <td>Friday: Take the train at 08:10 am, arrive at ...</td>\n",
              "    </tr>\n",
              "  </tbody>\n",
              "</table>\n",
              "</div>"
            ],
            "text/plain": [
              "                                                text\n",
              "0     Monday: The doctor's appointment is at 2:45pm.\n",
              "1  Tuesday: The dentist's appointment is at 11:30...\n",
              "2  Wednesday: At 7:00pm, there is a basketball game!\n",
              "3  Thursday: Be back home by 11:15 pm at the latest.\n",
              "4  Friday: Take the train at 08:10 am, arrive at ..."
            ]
          },
          "metadata": {
            "tags": []
          },
          "execution_count": 14
        }
      ]
    },
    {
      "cell_type": "code",
      "metadata": {
        "id": "1d8USDmN5VN1",
        "colab_type": "code",
        "colab": {
          "base_uri": "https://localhost:8080/",
          "height": 156
        },
        "outputId": "3be33d6c-d7db-4dce-b26c-c2712e5f8a02"
      },
      "source": [
        "##### ------------------ 본 한글주석 by 유형균 (이메일 문의 : quantgeni@gmail.com) ------------------ #####\n",
        "\n",
        "# find the number of characters for each string in df['text']\n",
        "print(df['text'].str)\n",
        "print('-----------------------------------------------------')\n",
        "print(df['text'].str.len()) # 공백 포함 character 개수 (해당 열 내, 각 행 별)"
      ],
      "execution_count": 24,
      "outputs": [
        {
          "output_type": "stream",
          "text": [
            "<pandas.core.strings.StringMethods object at 0x7f3eb931a128>\n",
            "-----------------------------------------------------\n",
            "0    46\n",
            "1    50\n",
            "2    49\n",
            "3    49\n",
            "4    54\n",
            "Name: text, dtype: int64\n"
          ],
          "name": "stdout"
        }
      ]
    },
    {
      "cell_type": "code",
      "metadata": {
        "id": "TQFv0pQg5VN-",
        "colab_type": "code",
        "colab": {
          "base_uri": "https://localhost:8080/",
          "height": 174
        },
        "outputId": "cf684593-e1a7-4026-a39b-25d5f8da7565"
      },
      "source": [
        "##### ------------------ 본 한글주석 by 유형균 (이메일 문의 : quantgeni@gmail.com) ------------------ #####\n",
        "\n",
        "# find the number of tokens for each string in df['text']\n",
        "dfsplit = df['text'].str.split().str # 기본적으로 DataFrame의 특정 열 내 요소를 다룰 때는 .str을 붙이되, split() 시 해당 열의 각 행 단에서 실행됨\n",
        "print(dfsplit)\n",
        "print('-------------------------------------------------')\n",
        "print(dfsplit.len()) # 단어 개수 (해당 열 내, 각 행 별)"
      ],
      "execution_count": 32,
      "outputs": [
        {
          "output_type": "stream",
          "text": [
            "<pandas.core.strings.StringMethods object at 0x7f3eb93095f8>\n",
            "-------------------------------------------------\n",
            "0     7\n",
            "1     8\n",
            "2     8\n",
            "3    10\n",
            "4    10\n",
            "Name: text, dtype: int64\n",
            "-------------------------------------------------\n"
          ],
          "name": "stdout"
        }
      ]
    },
    {
      "cell_type": "code",
      "metadata": {
        "id": "lxpw7taO5VOG",
        "colab_type": "code",
        "colab": {
          "base_uri": "https://localhost:8080/",
          "height": 121
        },
        "outputId": "015058ea-1026-4ce4-f450-f73a875f181c"
      },
      "source": [
        "##### ------------------ 본 한글주석 by 유형균 (이메일 문의 : quantgeni@gmail.com) ------------------ #####\n",
        "\n",
        "# find which entries contain the word 'appointment'\n",
        "df['text'].str.contains('appointment') # 해당 열 내, 각 행 별"
      ],
      "execution_count": 33,
      "outputs": [
        {
          "output_type": "execute_result",
          "data": {
            "text/plain": [
              "0     True\n",
              "1     True\n",
              "2    False\n",
              "3    False\n",
              "4    False\n",
              "Name: text, dtype: bool"
            ]
          },
          "metadata": {
            "tags": []
          },
          "execution_count": 33
        }
      ]
    },
    {
      "cell_type": "code",
      "metadata": {
        "id": "6ao7uv5O5VOP",
        "colab_type": "code",
        "colab": {
          "base_uri": "https://localhost:8080/",
          "height": 226
        },
        "outputId": "8db9111d-a550-4bce-b62e-e8693db5c40b"
      },
      "source": [
        "##### ------------------ 본 한글주석 by 유형균 (이메일 문의 : quantgeni@gmail.com) ------------------ #####\n",
        "\n",
        "# find how many times a digit occurs in each string\n",
        "print(df['text'].str.count(r'\\d'))\n",
        "print(df['text'].str.count('\\d'))\n",
        "\n",
        "# 위 아래 동일"
      ],
      "execution_count": 41,
      "outputs": [
        {
          "output_type": "stream",
          "text": [
            "0    3\n",
            "1    4\n",
            "2    3\n",
            "3    4\n",
            "4    8\n",
            "Name: text, dtype: int64\n",
            "0    3\n",
            "1    4\n",
            "2    3\n",
            "3    4\n",
            "4    8\n",
            "Name: text, dtype: int64\n"
          ],
          "name": "stdout"
        }
      ]
    },
    {
      "cell_type": "code",
      "metadata": {
        "id": "T2Y52BuZ5VOd",
        "colab_type": "code",
        "colab": {
          "base_uri": "https://localhost:8080/",
          "height": 244
        },
        "outputId": "36776d08-d209-4642-b2b2-41d745426474"
      },
      "source": [
        "##### ------------------ 본 한글주석 by 유형균 (이메일 문의 : quantgeni@gmail.com) ------------------ #####\n",
        "\n",
        "print(df)\n",
        "print()\n",
        "# find all occurances of the digits\n",
        "print(df['text'].str.findall(r'\\d')) # hour, minute을 잘 뽑아왔쥬?\n",
        "# 단, 0-9 digit 뽑아올 때 1개씩 뽑아옴에 유의 (해당 열 내 각 행 별)\n",
        "\n",
        "# print(df['text'].str.search(r'\\d')) # 이건 에러남"
      ],
      "execution_count": 45,
      "outputs": [
        {
          "output_type": "stream",
          "text": [
            "                                                text\n",
            "0     Monday: The doctor's appointment is at 2:45pm.\n",
            "1  Tuesday: The dentist's appointment is at 11:30...\n",
            "2  Wednesday: At 7:00pm, there is a basketball game!\n",
            "3  Thursday: Be back home by 11:15 pm at the latest.\n",
            "4  Friday: Take the train at 08:10 am, arrive at ...\n",
            "\n",
            "0                   [2, 4, 5]\n",
            "1                [1, 1, 3, 0]\n",
            "2                   [7, 0, 0]\n",
            "3                [1, 1, 1, 5]\n",
            "4    [0, 8, 1, 0, 0, 9, 0, 0]\n",
            "Name: text, dtype: object\n"
          ],
          "name": "stdout"
        }
      ]
    },
    {
      "cell_type": "code",
      "metadata": {
        "id": "ISkZMKyR5VOn",
        "colab_type": "code",
        "colab": {
          "base_uri": "https://localhost:8080/",
          "height": 767
        },
        "outputId": "5973acb4-cf0c-4b52-92b7-01758fb080bd"
      },
      "source": [
        "##### ------------------ 본 한글주석 by 유형균 (이메일 문의 : quantgeni@gmail.com) ------------------ #####\n",
        "\n",
        "print(df)\n",
        "print()\n",
        "\n",
        "# group and find the hours and minutes\n",
        "# 다양하게 연습해보기\n",
        "print(df['text'].str.findall(r'(\\d?\\d):(\\d)'))\n",
        "print(df['text'].str.findall(r'(\\d?\\d):(\\d?)'))\n",
        "print(df['text'].str.findall(r'(\\d+):(\\d\\d)'))\n",
        "print(df['text'].str.findall(r'(\\d*):(\\d\\d)'))\n",
        "print(df['text'].str.findall(r'(\\d?\\d):(\\d\\d)'))\n",
        "print(df['text'].str.findall(r'(\\d?\\d):(\\d*)'))"
      ],
      "execution_count": 89,
      "outputs": [
        {
          "output_type": "stream",
          "text": [
            "                                                text\n",
            "0     Monday: The doctor's appointment is at 2:45pm.\n",
            "1  Tuesday: The dentist's appointment is at 11:30...\n",
            "2  Wednesday: At 7:00pm, there is a basketball game!\n",
            "3  Thursday: Be back home by 11:15 pm at the latest.\n",
            "4  Friday: Take the train at 08:10 am, arrive at ...\n",
            "\n",
            "0              [(2, 4)]\n",
            "1             [(11, 3)]\n",
            "2              [(7, 0)]\n",
            "3             [(11, 1)]\n",
            "4    [(08, 1), (09, 0)]\n",
            "Name: text, dtype: object\n",
            "0              [(2, 4)]\n",
            "1             [(11, 3)]\n",
            "2              [(7, 0)]\n",
            "3             [(11, 1)]\n",
            "4    [(08, 1), (09, 0)]\n",
            "Name: text, dtype: object\n",
            "0               [(2, 45)]\n",
            "1              [(11, 30)]\n",
            "2               [(7, 00)]\n",
            "3              [(11, 15)]\n",
            "4    [(08, 10), (09, 00)]\n",
            "Name: text, dtype: object\n",
            "0               [(2, 45)]\n",
            "1              [(11, 30)]\n",
            "2               [(7, 00)]\n",
            "3              [(11, 15)]\n",
            "4    [(08, 10), (09, 00)]\n",
            "Name: text, dtype: object\n",
            "0               [(2, 45)]\n",
            "1              [(11, 30)]\n",
            "2               [(7, 00)]\n",
            "3              [(11, 15)]\n",
            "4    [(08, 10), (09, 00)]\n",
            "Name: text, dtype: object\n",
            "0               [(2, 45)]\n",
            "1              [(11, 30)]\n",
            "2               [(7, 00)]\n",
            "3              [(11, 15)]\n",
            "4    [(08, 10), (09, 00)]\n",
            "Name: text, dtype: object\n"
          ],
          "name": "stdout"
        }
      ]
    },
    {
      "cell_type": "code",
      "metadata": {
        "id": "3liLeQ1C5VOw",
        "colab_type": "code",
        "colab": {}
      },
      "source": [
        "##### ------------------ 본 한글주석 by 유형균 (이메일 문의 : quantgeni@gmail.com) ------------------ #####\n",
        "\n",
        "# replace weekdays with '???'\n",
        "df['text'].str.replace(r'\\w+day\\b', '???')"
      ],
      "execution_count": 0,
      "outputs": []
    },
    {
      "cell_type": "code",
      "metadata": {
        "id": "mH7P0WoW5VPC",
        "colab_type": "code",
        "colab": {
          "base_uri": "https://localhost:8080/",
          "height": 244
        },
        "outputId": "84fc1768-54d4-4a09-e16e-78292740e73b"
      },
      "source": [
        "##### ------------------ 본 한글주석 by 유형균 (이메일 문의 : quantgeni@gmail.com) ------------------ #####\n",
        "# Monday -> Mon 바꾸기\n",
        "\n",
        "print(df)\n",
        "print()\n",
        "# replace weekdays with 3 letter abbrevations\n",
        "df['text'].str.replace(r'(\\w+day\\b)', lambda x: x.groups()[0][:3])"
      ],
      "execution_count": 86,
      "outputs": [
        {
          "output_type": "stream",
          "text": [
            "                                                text\n",
            "0     Monday: The doctor's appointment is at 2:45pm.\n",
            "1  Tuesday: The dentist's appointment is at 11:30...\n",
            "2  Wednesday: At 7:00pm, there is a basketball game!\n",
            "3  Thursday: Be back home by 11:15 pm at the latest.\n",
            "4  Friday: Take the train at 08:10 am, arrive at ...\n",
            "\n"
          ],
          "name": "stdout"
        },
        {
          "output_type": "execute_result",
          "data": {
            "text/plain": [
              "0          Mon: The doctor's appointment is at 2:45pm.\n",
              "1       Tue: The dentist's appointment is at 11:30 am.\n",
              "2          Wed: At 7:00pm, there is a basketball game!\n",
              "3         Thu: Be back home by 11:15 pm at the latest.\n",
              "4    Fri: Take the train at 08:10 am, arrive at 09:...\n",
              "Name: text, dtype: object"
            ]
          },
          "metadata": {
            "tags": []
          },
          "execution_count": 86
        }
      ]
    },
    {
      "cell_type": "code",
      "metadata": {
        "id": "7ml7xuRb5VPb",
        "colab_type": "code",
        "colab": {
          "base_uri": "https://localhost:8080/",
          "height": 318
        },
        "outputId": "6fbe5b86-fa65-4761-c433-0de7bec89597"
      },
      "source": [
        "##### ------------------ 본 한글주석 by 유형균 (이메일 문의 : quantgeni@gmail.com) ------------------ #####\n",
        "\n",
        "print(df)\n",
        "print()\n",
        "# create new columns from first match of extracted groups\n",
        "df['text'].str.extract(r'(\\d?\\d):(\\d\\d)')\n",
        "\n",
        "# print(df['text'].str.findall(r'(\\d?\\d):(\\d\\d)')) # <- 기본적으로 좌측과 바로 위는, 나눠 가져온다는 점에서는 동일하지만, 리스트 내 tuple 형태냐 별도컬럼의 원소 형태냐의 차이\n",
        "# 즉, extract()는 새로운 컬럼 생성한다는 점"
      ],
      "execution_count": 88,
      "outputs": [
        {
          "output_type": "stream",
          "text": [
            "                                                text\n",
            "0     Monday: The doctor's appointment is at 2:45pm.\n",
            "1  Tuesday: The dentist's appointment is at 11:30...\n",
            "2  Wednesday: At 7:00pm, there is a basketball game!\n",
            "3  Thursday: Be back home by 11:15 pm at the latest.\n",
            "4  Friday: Take the train at 08:10 am, arrive at ...\n",
            "\n"
          ],
          "name": "stdout"
        },
        {
          "output_type": "execute_result",
          "data": {
            "text/html": [
              "<div>\n",
              "<style scoped>\n",
              "    .dataframe tbody tr th:only-of-type {\n",
              "        vertical-align: middle;\n",
              "    }\n",
              "\n",
              "    .dataframe tbody tr th {\n",
              "        vertical-align: top;\n",
              "    }\n",
              "\n",
              "    .dataframe thead th {\n",
              "        text-align: right;\n",
              "    }\n",
              "</style>\n",
              "<table border=\"1\" class=\"dataframe\">\n",
              "  <thead>\n",
              "    <tr style=\"text-align: right;\">\n",
              "      <th></th>\n",
              "      <th>0</th>\n",
              "      <th>1</th>\n",
              "    </tr>\n",
              "  </thead>\n",
              "  <tbody>\n",
              "    <tr>\n",
              "      <th>0</th>\n",
              "      <td>2</td>\n",
              "      <td>45</td>\n",
              "    </tr>\n",
              "    <tr>\n",
              "      <th>1</th>\n",
              "      <td>11</td>\n",
              "      <td>30</td>\n",
              "    </tr>\n",
              "    <tr>\n",
              "      <th>2</th>\n",
              "      <td>7</td>\n",
              "      <td>00</td>\n",
              "    </tr>\n",
              "    <tr>\n",
              "      <th>3</th>\n",
              "      <td>11</td>\n",
              "      <td>15</td>\n",
              "    </tr>\n",
              "    <tr>\n",
              "      <th>4</th>\n",
              "      <td>08</td>\n",
              "      <td>10</td>\n",
              "    </tr>\n",
              "  </tbody>\n",
              "</table>\n",
              "</div>"
            ],
            "text/plain": [
              "    0   1\n",
              "0   2  45\n",
              "1  11  30\n",
              "2   7  00\n",
              "3  11  15\n",
              "4  08  10"
            ]
          },
          "metadata": {
            "tags": []
          },
          "execution_count": 88
        }
      ]
    },
    {
      "cell_type": "code",
      "metadata": {
        "id": "ZW-RYGNf5VPp",
        "colab_type": "code",
        "colab": {
          "base_uri": "https://localhost:8080/",
          "height": 378
        },
        "outputId": "e036e494-267e-4850-e0c9-2274052af915"
      },
      "source": [
        "##### ------------------ 본 한글주석 by 유형균 (이메일 문의 : quantgeni@gmail.com) ------------------ #####\n",
        "print(df)\n",
        "print()\n",
        "\n",
        "# 어찌 가져오는지 확인해보자\n",
        "# extract the entire time, the hours, the minutes, and the period\n",
        "df['text'].str.extractall(r'((\\d?\\d):(\\d\\d) ?([ap]m))')"
      ],
      "execution_count": 90,
      "outputs": [
        {
          "output_type": "stream",
          "text": [
            "                                                text\n",
            "0     Monday: The doctor's appointment is at 2:45pm.\n",
            "1  Tuesday: The dentist's appointment is at 11:30...\n",
            "2  Wednesday: At 7:00pm, there is a basketball game!\n",
            "3  Thursday: Be back home by 11:15 pm at the latest.\n",
            "4  Friday: Take the train at 08:10 am, arrive at ...\n",
            "\n"
          ],
          "name": "stdout"
        },
        {
          "output_type": "execute_result",
          "data": {
            "text/html": [
              "<div>\n",
              "<style scoped>\n",
              "    .dataframe tbody tr th:only-of-type {\n",
              "        vertical-align: middle;\n",
              "    }\n",
              "\n",
              "    .dataframe tbody tr th {\n",
              "        vertical-align: top;\n",
              "    }\n",
              "\n",
              "    .dataframe thead th {\n",
              "        text-align: right;\n",
              "    }\n",
              "</style>\n",
              "<table border=\"1\" class=\"dataframe\">\n",
              "  <thead>\n",
              "    <tr style=\"text-align: right;\">\n",
              "      <th></th>\n",
              "      <th></th>\n",
              "      <th>0</th>\n",
              "      <th>1</th>\n",
              "      <th>2</th>\n",
              "      <th>3</th>\n",
              "    </tr>\n",
              "    <tr>\n",
              "      <th></th>\n",
              "      <th>match</th>\n",
              "      <th></th>\n",
              "      <th></th>\n",
              "      <th></th>\n",
              "      <th></th>\n",
              "    </tr>\n",
              "  </thead>\n",
              "  <tbody>\n",
              "    <tr>\n",
              "      <th>0</th>\n",
              "      <th>0</th>\n",
              "      <td>2:45pm</td>\n",
              "      <td>2</td>\n",
              "      <td>45</td>\n",
              "      <td>pm</td>\n",
              "    </tr>\n",
              "    <tr>\n",
              "      <th>1</th>\n",
              "      <th>0</th>\n",
              "      <td>11:30 am</td>\n",
              "      <td>11</td>\n",
              "      <td>30</td>\n",
              "      <td>am</td>\n",
              "    </tr>\n",
              "    <tr>\n",
              "      <th>2</th>\n",
              "      <th>0</th>\n",
              "      <td>7:00pm</td>\n",
              "      <td>7</td>\n",
              "      <td>00</td>\n",
              "      <td>pm</td>\n",
              "    </tr>\n",
              "    <tr>\n",
              "      <th>3</th>\n",
              "      <th>0</th>\n",
              "      <td>11:15 pm</td>\n",
              "      <td>11</td>\n",
              "      <td>15</td>\n",
              "      <td>pm</td>\n",
              "    </tr>\n",
              "    <tr>\n",
              "      <th rowspan=\"2\" valign=\"top\">4</th>\n",
              "      <th>0</th>\n",
              "      <td>08:10 am</td>\n",
              "      <td>08</td>\n",
              "      <td>10</td>\n",
              "      <td>am</td>\n",
              "    </tr>\n",
              "    <tr>\n",
              "      <th>1</th>\n",
              "      <td>09:00am</td>\n",
              "      <td>09</td>\n",
              "      <td>00</td>\n",
              "      <td>am</td>\n",
              "    </tr>\n",
              "  </tbody>\n",
              "</table>\n",
              "</div>"
            ],
            "text/plain": [
              "                0   1   2   3\n",
              "  match                      \n",
              "0 0        2:45pm   2  45  pm\n",
              "1 0      11:30 am  11  30  am\n",
              "2 0        7:00pm   7  00  pm\n",
              "3 0      11:15 pm  11  15  pm\n",
              "4 0      08:10 am  08  10  am\n",
              "  1       09:00am  09  00  am"
            ]
          },
          "metadata": {
            "tags": []
          },
          "execution_count": 90
        }
      ]
    },
    {
      "cell_type": "code",
      "metadata": {
        "id": "w2mCRoW15VP5",
        "colab_type": "code",
        "colab": {
          "base_uri": "https://localhost:8080/",
          "height": 256
        },
        "outputId": "56027925-d5c5-4a9a-df0c-c15b12b7d9c4"
      },
      "source": [
        "##### ------------------ 본 한글주석 by 유형균 (이메일 문의 : quantgeni@gmail.com) ------------------ #####\n",
        "\n",
        "# extract the entire time, the hours, the minutes, and the period with group names\n",
        "# 컬럼명 붙이기\n",
        "df['text'].str.extractall(r'(?P<time>(?P<hour>\\d?\\d):(?P<minute>\\d\\d) ?(?P<period>[ap]m))')"
      ],
      "execution_count": 91,
      "outputs": [
        {
          "output_type": "execute_result",
          "data": {
            "text/html": [
              "<div>\n",
              "<style scoped>\n",
              "    .dataframe tbody tr th:only-of-type {\n",
              "        vertical-align: middle;\n",
              "    }\n",
              "\n",
              "    .dataframe tbody tr th {\n",
              "        vertical-align: top;\n",
              "    }\n",
              "\n",
              "    .dataframe thead th {\n",
              "        text-align: right;\n",
              "    }\n",
              "</style>\n",
              "<table border=\"1\" class=\"dataframe\">\n",
              "  <thead>\n",
              "    <tr style=\"text-align: right;\">\n",
              "      <th></th>\n",
              "      <th></th>\n",
              "      <th>time</th>\n",
              "      <th>hour</th>\n",
              "      <th>minute</th>\n",
              "      <th>period</th>\n",
              "    </tr>\n",
              "    <tr>\n",
              "      <th></th>\n",
              "      <th>match</th>\n",
              "      <th></th>\n",
              "      <th></th>\n",
              "      <th></th>\n",
              "      <th></th>\n",
              "    </tr>\n",
              "  </thead>\n",
              "  <tbody>\n",
              "    <tr>\n",
              "      <th>0</th>\n",
              "      <th>0</th>\n",
              "      <td>2:45pm</td>\n",
              "      <td>2</td>\n",
              "      <td>45</td>\n",
              "      <td>pm</td>\n",
              "    </tr>\n",
              "    <tr>\n",
              "      <th>1</th>\n",
              "      <th>0</th>\n",
              "      <td>11:30 am</td>\n",
              "      <td>11</td>\n",
              "      <td>30</td>\n",
              "      <td>am</td>\n",
              "    </tr>\n",
              "    <tr>\n",
              "      <th>2</th>\n",
              "      <th>0</th>\n",
              "      <td>7:00pm</td>\n",
              "      <td>7</td>\n",
              "      <td>00</td>\n",
              "      <td>pm</td>\n",
              "    </tr>\n",
              "    <tr>\n",
              "      <th>3</th>\n",
              "      <th>0</th>\n",
              "      <td>11:15 pm</td>\n",
              "      <td>11</td>\n",
              "      <td>15</td>\n",
              "      <td>pm</td>\n",
              "    </tr>\n",
              "    <tr>\n",
              "      <th rowspan=\"2\" valign=\"top\">4</th>\n",
              "      <th>0</th>\n",
              "      <td>08:10 am</td>\n",
              "      <td>08</td>\n",
              "      <td>10</td>\n",
              "      <td>am</td>\n",
              "    </tr>\n",
              "    <tr>\n",
              "      <th>1</th>\n",
              "      <td>09:00am</td>\n",
              "      <td>09</td>\n",
              "      <td>00</td>\n",
              "      <td>am</td>\n",
              "    </tr>\n",
              "  </tbody>\n",
              "</table>\n",
              "</div>"
            ],
            "text/plain": [
              "             time hour minute period\n",
              "  match                             \n",
              "0 0        2:45pm    2     45     pm\n",
              "1 0      11:30 am   11     30     am\n",
              "2 0        7:00pm    7     00     pm\n",
              "3 0      11:15 pm   11     15     pm\n",
              "4 0      08:10 am   08     10     am\n",
              "  1       09:00am   09     00     am"
            ]
          },
          "metadata": {
            "tags": []
          },
          "execution_count": 91
        }
      ]
    }
  ]
}