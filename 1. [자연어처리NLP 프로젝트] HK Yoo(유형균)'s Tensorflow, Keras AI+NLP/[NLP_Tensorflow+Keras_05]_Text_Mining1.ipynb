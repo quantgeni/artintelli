{
  "nbformat": 4,
  "nbformat_minor": 0,
  "metadata": {
    "colab": {
      "name": "[NLP. Tensorflow+Keras 05] Text Mining1.ipynb",
      "version": "0.3.2",
      "provenance": [],
      "collapsed_sections": []
    },
    "kernelspec": {
      "name": "python3",
      "display_name": "Python 3"
    }
  },
  "cells": [
    {
      "cell_type": "code",
      "metadata": {
        "id": "E6uEsOiaVbHc",
        "colab_type": "code",
        "outputId": "b592b552-5466-4b30-956c-62ea44703598",
        "colab": {
          "base_uri": "https://localhost:8080/",
          "height": 52
        }
      },
      "source": [
        "##### ------------------ 본 한글주석 by 유형균 (이메일 문의 : quantgeni@gmail.com) ------------------ #####\n",
        "# 본 GitHub NLP섹션에서는 NLP를 DL의 RNNs, LSTMs, Attention (Transfomer)까지 다루게 됩니다.\n",
        "\n",
        "# 우선 본 colab notebook에서는 NLP의 첫 단추, text mining부터!\n",
        "# 자, 가볍게 시작해봅시다.\n",
        "\n",
        "a = 'hello haha'\n",
        "print(len(a)) # str의 len은 공백포함, character 개수 (중복포함)\n",
        "\n",
        "b = ['hello haha', 'hello haha'] # list의 len은 element 개수 (중복포함)\n",
        "print(len(b))"
      ],
      "execution_count": 0,
      "outputs": [
        {
          "output_type": "stream",
          "text": [
            "10\n",
            "2\n"
          ],
          "name": "stdout"
        }
      ]
    },
    {
      "cell_type": "code",
      "metadata": {
        "id": "W17Qc3h9VgAh",
        "colab_type": "code",
        "outputId": "428589e4-6128-4412-a574-fca1941bc2fc",
        "colab": {
          "base_uri": "https://localhost:8080/",
          "height": 34
        }
      },
      "source": [
        "##### ------------------ 본 한글주석 by 유형균 (이메일 문의 : quantgeni@gmail.com) ------------------ #####\n",
        "\n",
        "c = ['Hi', 'Pizza']\n",
        "[w.lower() for w in c] # list 자체를 .lower() 할 수 없다. 따라서, lambda 형식으로"
      ],
      "execution_count": 0,
      "outputs": [
        {
          "output_type": "execute_result",
          "data": {
            "text/plain": [
              "['hi', 'pizza']"
            ]
          },
          "metadata": {
            "tags": []
          },
          "execution_count": 8
        }
      ]
    },
    {
      "cell_type": "code",
      "metadata": {
        "id": "-rRutfdtW_4O",
        "colab_type": "code",
        "outputId": "d7e4afbf-fad2-4a7b-dbdf-adc94eaec686",
        "colab": {
          "base_uri": "https://localhost:8080/",
          "height": 34
        }
      },
      "source": [
        "##### ------------------ 본 한글주석 by 유형균 (이메일 문의 : quantgeni@gmail.com) ------------------ #####\n",
        "# text1에 sentence 1개를 넣어줘볼까요?\n",
        "\n",
        "text1 = \"Ethics are built right into the ideals and objectives of the United Nations \"\n",
        "\n",
        "len(text1) # The length of text1"
      ],
      "execution_count": 0,
      "outputs": [
        {
          "output_type": "execute_result",
          "data": {
            "text/plain": [
              "76"
            ]
          },
          "metadata": {
            "tags": []
          },
          "execution_count": 2
        }
      ]
    },
    {
      "cell_type": "markdown",
      "metadata": {
        "id": "BvGxpZKT--Sm",
        "colab_type": "text"
      },
      "source": [
        "List comprehension allows us to find specific words:\n",
        "(list <->  str 왔다갔다 > split과 join의 적절한 활용)"
      ]
    },
    {
      "cell_type": "code",
      "metadata": {
        "id": "ylO8SnhN-1rq",
        "colab_type": "code",
        "outputId": "0b5c9765-661b-458a-eb96-12a2081e9edb",
        "colab": {
          "base_uri": "https://localhost:8080/",
          "height": 34
        }
      },
      "source": [
        "##### ------------------ 본 한글주석 by 유형균 (이메일 문의 : quantgeni@gmail.com) ------------------ #####\n",
        "# 재미있는 포인트는,\n",
        "# split은 쪼개지만 결국 리스트 내에 묶어주고, 즉, str -> list\n",
        "# join은 합치지만 결국 list -> str로 바꿈 (list 자체는 해체)\n",
        "\n",
        "text2 = text1.split(' ') # Return a list of the words in text2, separating by ' '\n",
        "\n",
        "len(text2)"
      ],
      "execution_count": 0,
      "outputs": [
        {
          "output_type": "execute_result",
          "data": {
            "text/plain": [
              "14"
            ]
          },
          "metadata": {
            "tags": []
          },
          "execution_count": 3
        }
      ]
    },
    {
      "cell_type": "code",
      "metadata": {
        "id": "ySgdSKr4-4_b",
        "colab_type": "code",
        "outputId": "8a523dde-2ea9-40eb-8a59-2fafb6bd8180",
        "colab": {
          "base_uri": "https://localhost:8080/",
          "height": 156
        }
      },
      "source": [
        "##### ------------------ 본 한글주석 by 유형균 (이메일 문의 : quantgeni@gmail.com) ------------------ #####\n",
        "\n",
        "[w for w in text2 if len(w) > 3] # Words that are greater than 3 letters long in text2 // 리스트 내 각 element 뽑아내는 방법은 bracket 안에 lambda로!"
      ],
      "execution_count": 0,
      "outputs": [
        {
          "output_type": "execute_result",
          "data": {
            "text/plain": [
              "['Ethics',\n",
              " 'built',\n",
              " 'right',\n",
              " 'into',\n",
              " 'ideals',\n",
              " 'objectives',\n",
              " 'United',\n",
              " 'Nations']"
            ]
          },
          "metadata": {
            "tags": []
          },
          "execution_count": 4
        }
      ]
    },
    {
      "cell_type": "code",
      "metadata": {
        "id": "J9ptmx0m-48j",
        "colab_type": "code",
        "outputId": "6e115d02-9a04-4de8-f0cc-5329e86a599a",
        "colab": {
          "base_uri": "https://localhost:8080/",
          "height": 34
        }
      },
      "source": [
        "##### ------------------ 본 한글주석 by 유형균 (이메일 문의 : quantgeni@gmail.com) ------------------ #####\n",
        "\n",
        "[w for w in text2 if w.istitle()] # Capitalized words in text2\n",
        "# title 찾아주는 로직은, 제일 첫 character 대문자, 나머지 소문자"
      ],
      "execution_count": 0,
      "outputs": [
        {
          "output_type": "execute_result",
          "data": {
            "text/plain": [
              "['Ethics', 'United', 'Nations']"
            ]
          },
          "metadata": {
            "tags": []
          },
          "execution_count": 5
        }
      ]
    },
    {
      "cell_type": "code",
      "metadata": {
        "id": "siZgNUi9DU0t",
        "colab_type": "code",
        "colab": {}
      },
      "source": [
        "bracket 안에 endswith(), startswith()!"
      ],
      "execution_count": 0,
      "outputs": []
    },
    {
      "cell_type": "code",
      "metadata": {
        "id": "JPiZN8Rx-46R",
        "colab_type": "code",
        "outputId": "ad949a2d-61d2-46f4-a8a6-9f974cf025aa",
        "colab": {
          "base_uri": "https://localhost:8080/",
          "height": 34
        }
      },
      "source": [
        "##### ------------------ 본 한글주석 by 유형균 (이메일 문의 : quantgeni@gmail.com) ------------------ #####\n",
        "\n",
        "\n",
        "[w for w in text2 if w.endswith('s')] # Words in text2 that end in 's'"
      ],
      "execution_count": 0,
      "outputs": [
        {
          "output_type": "execute_result",
          "data": {
            "text/plain": [
              "['Ethics', 'ideals', 'objectives', 'Nations']"
            ]
          },
          "metadata": {
            "tags": []
          },
          "execution_count": 16
        }
      ]
    },
    {
      "cell_type": "markdown",
      "metadata": {
        "id": "PRkoNcJ2_CFJ",
        "colab_type": "text"
      },
      "source": [
        "We can find unique words using set().\n",
        "=> set()를 이용해서 중복제거 해봅시다 (중/고등학교 때 배우게 되는 '집합'이 영어로 'set')\n",
        "// 집합에 동일한 원소가 중복해서 들어갈 수 없쥬?"
      ]
    },
    {
      "cell_type": "code",
      "metadata": {
        "id": "gpEYa4aB-44M",
        "colab_type": "code",
        "outputId": "11731de0-4bbc-40aa-8b9d-b3560005f66e",
        "colab": {
          "base_uri": "https://localhost:8080/",
          "height": 52
        }
      },
      "source": [
        "##### ------------------ 본 한글주석 by 유형균 (이메일 문의 : quantgeni@gmail.com) ------------------ #####\n",
        "\n",
        "text3 = 'To be or not to be'\n",
        "text4 = text3.split(' ')\n",
        "\n",
        "print(text4)\n",
        "print(len(text4)) # 'be'는 중복인데도, 별도로 len에 산정됨"
      ],
      "execution_count": 0,
      "outputs": [
        {
          "output_type": "stream",
          "text": [
            "['To', 'be', 'or', 'not', 'to', 'be']\n",
            "6\n"
          ],
          "name": "stdout"
        }
      ]
    },
    {
      "cell_type": "code",
      "metadata": {
        "id": "ZhOmp471-42g",
        "colab_type": "code",
        "outputId": "caac24c8-f012-423c-ad34-578a820d0131",
        "colab": {
          "base_uri": "https://localhost:8080/",
          "height": 34
        }
      },
      "source": [
        "##### ------------------ 본 한글주석 by 유형균 (이메일 문의 : quantgeni@gmail.com) ------------------ #####\n",
        "len(set(text4)) # set()을 통해 중복 제거 // 그럼에도, 유의할 점은 'To'와 'to'는 별개로 봄. 느낌 오죠? lower()가 곧 등장할 것이라는 것! ㅎㅎ"
      ],
      "execution_count": 0,
      "outputs": [
        {
          "output_type": "execute_result",
          "data": {
            "text/plain": [
              "5"
            ]
          },
          "metadata": {
            "tags": []
          },
          "execution_count": 9
        }
      ]
    },
    {
      "cell_type": "code",
      "metadata": {
        "id": "BPOABnen-40D",
        "colab_type": "code",
        "outputId": "744deafe-052b-4279-ab1d-d5ccdd4f4499",
        "colab": {
          "base_uri": "https://localhost:8080/",
          "height": 34
        }
      },
      "source": [
        "##### ------------------ 본 한글주석 by 유형균 (이메일 문의 : quantgeni@gmail.com) ------------------ #####\n",
        "set(text4)"
      ],
      "execution_count": 0,
      "outputs": [
        {
          "output_type": "execute_result",
          "data": {
            "text/plain": [
              "{'To', 'be', 'not', 'or', 'to'}"
            ]
          },
          "metadata": {
            "tags": []
          },
          "execution_count": 10
        }
      ]
    },
    {
      "cell_type": "code",
      "metadata": {
        "id": "tMKGtBXw-4w8",
        "colab_type": "code",
        "outputId": "d544df53-5157-4845-e9c1-1b619f822d82",
        "colab": {
          "base_uri": "https://localhost:8080/",
          "height": 34
        }
      },
      "source": [
        "##### ------------------ 본 한글주석 by 유형균 (이메일 문의 : quantgeni@gmail.com) ------------------ #####\n",
        "# 모두 소문자로 바꿔준 다음에 중복 제거 (해당 경우 'to', 'be'가 중복으로 잡혀서 각각 빠지겠죠? 즉, 6-2=4)\n",
        "\n",
        "len(set([w.lower() for w in text4])) # .lower converts the string to lowercase "
      ],
      "execution_count": 0,
      "outputs": [
        {
          "output_type": "execute_result",
          "data": {
            "text/plain": [
              "4"
            ]
          },
          "metadata": {
            "tags": []
          },
          "execution_count": 14
        }
      ]
    },
    {
      "cell_type": "code",
      "metadata": {
        "id": "aMVnvgMx-4uE",
        "colab_type": "code",
        "outputId": "23e51d9e-b798-44d4-a155-5f0c7c6dc77e",
        "colab": {
          "base_uri": "https://localhost:8080/",
          "height": 52
        }
      },
      "source": [
        "##### ------------------ 본 한글주석 by 유형균 (이메일 문의 : quantgeni@gmail.com) ------------------ #####\n",
        "# 위 아래 둘다 lower() 적용한 뒤, set을 하냐 안하냐에 따른 결과 대조\n",
        "\n",
        "print([w.lower() for w in text4])\n",
        "print(set([w.lower() for w in text4]))"
      ],
      "execution_count": 0,
      "outputs": [
        {
          "output_type": "stream",
          "text": [
            "['to', 'be', 'or', 'not', 'to', 'be']\n",
            "{'be', 'not', 'or', 'to'}\n"
          ],
          "name": "stdout"
        }
      ]
    },
    {
      "cell_type": "markdown",
      "metadata": {
        "id": "4dhQrZgM_nb2",
        "colab_type": "text"
      },
      "source": [
        "Processing free-text"
      ]
    },
    {
      "cell_type": "code",
      "metadata": {
        "id": "4AuMyEpg-4rB",
        "colab_type": "code",
        "outputId": "588e0d3a-7f72-41cb-9b82-4ab842729391",
        "colab": {
          "base_uri": "https://localhost:8080/",
          "height": 383
        }
      },
      "source": [
        "##### ------------------ 본 한글주석 by 유형균 (이메일 문의 : quantgeni@gmail.com) ------------------ #####\n",
        "\n",
        "text5 = '\"Ethics are built right into the ideals and objectives of the United Nations\" \\\n",
        "#UNSG @ NY Society for Ethical Culture bit.ly/2guVelr'\n",
        "text6 = text5.split(' ')\n",
        "\n",
        "text6"
      ],
      "execution_count": 0,
      "outputs": [
        {
          "output_type": "execute_result",
          "data": {
            "text/plain": [
              "['\"Ethics',\n",
              " 'are',\n",
              " 'built',\n",
              " 'right',\n",
              " 'into',\n",
              " 'the',\n",
              " 'ideals',\n",
              " 'and',\n",
              " 'objectives',\n",
              " 'of',\n",
              " 'the',\n",
              " 'United',\n",
              " 'Nations\"',\n",
              " '#UNSG',\n",
              " '@',\n",
              " 'NY',\n",
              " 'Society',\n",
              " 'for',\n",
              " 'Ethical',\n",
              " 'Culture',\n",
              " 'bit.ly/2guVelr']"
            ]
          },
          "metadata": {
            "tags": []
          },
          "execution_count": 18
        }
      ]
    },
    {
      "cell_type": "markdown",
      "metadata": {
        "id": "f6ljtNsW_ssW",
        "colab_type": "text"
      },
      "source": [
        "Finding hastags:"
      ]
    },
    {
      "cell_type": "code",
      "metadata": {
        "id": "8M1fzbn5-4oS",
        "colab_type": "code",
        "outputId": "1d361d9f-4265-4d31-f884-642229bef1df",
        "colab": {
          "base_uri": "https://localhost:8080/",
          "height": 34
        }
      },
      "source": [
        "##### ------------------ 본 한글주석 by 유형균 (이메일 문의 : quantgeni@gmail.com) ------------------ #####\n",
        "\n",
        "[w for w in text6 if w.startswith('#')]"
      ],
      "execution_count": 0,
      "outputs": [
        {
          "output_type": "execute_result",
          "data": {
            "text/plain": [
              "['#UNSG']"
            ]
          },
          "metadata": {
            "tags": []
          },
          "execution_count": 19
        }
      ]
    },
    {
      "cell_type": "markdown",
      "metadata": {
        "id": "n6rMnh4E_tMP",
        "colab_type": "text"
      },
      "source": [
        "Finding callouts:"
      ]
    },
    {
      "cell_type": "code",
      "metadata": {
        "id": "i7tzgkUK-4lW",
        "colab_type": "code",
        "outputId": "312e7767-929b-4e2b-ce96-763ae045897d",
        "colab": {
          "base_uri": "https://localhost:8080/",
          "height": 34
        }
      },
      "source": [
        "##### ------------------ 본 한글주석 by 유형균 (이메일 문의 : quantgeni@gmail.com) ------------------ #####\n",
        "\n",
        "[w for w in text6 if w.startswith('@')]"
      ],
      "execution_count": 0,
      "outputs": [
        {
          "output_type": "execute_result",
          "data": {
            "text/plain": [
              "['@']"
            ]
          },
          "metadata": {
            "tags": []
          },
          "execution_count": 20
        }
      ]
    },
    {
      "cell_type": "code",
      "metadata": {
        "id": "yNnAEThJ_oKw",
        "colab_type": "code",
        "outputId": "fdf68d6e-f916-42eb-b99e-75f2ac50a184",
        "colab": {
          "base_uri": "https://localhost:8080/",
          "height": 54
        }
      },
      "source": [
        "##### ------------------ 본 한글주석 by 유형균 (이메일 문의 : quantgeni@gmail.com) ------------------ #####\n",
        "\n",
        "text7 = '@UN @UN_Women \"Ethics are built right into the ideals and objectives of the United Nations\" \\\n",
        "#UNSG @ NY Society for Ethical Culture bit.ly/2guVelr'\n",
        "text8 = text7.split(' ')\n",
        "print(text8)"
      ],
      "execution_count": 0,
      "outputs": [
        {
          "output_type": "stream",
          "text": [
            "['@UN', '@UN_Women', '\"Ethics', 'are', 'built', 'right', 'into', 'the', 'ideals', 'and', 'objectives', 'of', 'the', 'United', 'Nations\"', '#UNSG', '@', 'NY', 'Society', 'for', 'Ethical', 'Culture', 'bit.ly/2guVelr']\n"
          ],
          "name": "stdout"
        }
      ]
    },
    {
      "cell_type": "markdown",
      "metadata": {
        "id": "B-ydHMxt_4Xu",
        "colab_type": "text"
      },
      "source": [
        "# 구글링 하면 다 나오쥬? 그래도 모르겠다면 이메일로 문의 주십시오 (quantgeni@gmail.com 유형균)\n",
        "\n",
        "We can use regular expressions to help us with more complex parsing.\n",
        "\n",
        "For example '@[A-Za-z0-9_]+' will return all words that:\n",
        "\n",
        "start with '@' and are followed by at least one:\n",
        "capital letter ('A-Z')\n",
        "lowercase letter ('a-z')\n",
        "number ('0-9')\n",
        "or underscore ('_')"
      ]
    },
    {
      "cell_type": "code",
      "metadata": {
        "id": "zPASxveb_ovE",
        "colab_type": "code",
        "outputId": "a4bb166a-a4d2-4c54-eb13-09ad277715ee",
        "colab": {
          "base_uri": "https://localhost:8080/",
          "height": 86
        }
      },
      "source": [
        "##### ------------------ 본 한글주석 by 유형균 (이메일 문의 : quantgeni@gmail.com) ------------------ #####\n",
        "# 왜 굳이, startswith('@')로 쇼부보지 않는가?\n",
        "# 달랑 '@', 즉 뒤에 아무것도 안 붙은 애는 callout이 아니기에 발라내기 위함이다. 따라서 정규표현식으로 추가조건 명시\n",
        "# 정규표현식이 궁금하다면, 구글링을 하시되 그럼에도 잘 모르겠다면 위 이메일로 문의주시기를!\n",
        "\n",
        "import re # import re - a module that provides support for regular expressions (re 모듈은 워낙 유명하쥬? 임포트 하십시오)\n",
        "\n",
        "# 아래 4개를 비교해보시쥬?\n",
        "print([w for w in text8 if w.startswith('@[A-Za-z0-9_]+')])\n",
        "print([w for w in text8 if w.startswith(r'@[A-Za-z0-9_]+')])\n",
        "print([w for w in text8 if w.startswith('@')])\n",
        "print([w for w in text8 if re.search('@[A-Za-z0-9_]+', w)])"
      ],
      "execution_count": 0,
      "outputs": [
        {
          "output_type": "stream",
          "text": [
            "[]\n",
            "[]\n",
            "['@UN', '@UN_Women', '@']\n",
            "['@UN', '@UN_Women']\n"
          ],
          "name": "stdout"
        }
      ]
    },
    {
      "cell_type": "code",
      "metadata": {
        "id": "aLtyfElxDyEE",
        "colab_type": "code",
        "outputId": "1ae8dfa1-c530-46ce-e3a5-bfeae66bc053",
        "colab": {
          "base_uri": "https://localhost:8080/",
          "height": 34
        }
      },
      "source": [
        "##### ------------------ 본 한글주석 by 유형균 (이메일 문의 : quantgeni@gmail.com) ------------------ #####\n",
        "\n",
        "[w for w in text8 if re.findall('@[A-Za-z0-9_]+', w)] # re.find()는 에러 // re.findall()과 위의 re.search() 동일"
      ],
      "execution_count": 0,
      "outputs": [
        {
          "output_type": "execute_result",
          "data": {
            "text/plain": [
              "['@UN', '@UN_Women']"
            ]
          },
          "metadata": {
            "tags": []
          },
          "execution_count": 25
        }
      ]
    }
  ]
}